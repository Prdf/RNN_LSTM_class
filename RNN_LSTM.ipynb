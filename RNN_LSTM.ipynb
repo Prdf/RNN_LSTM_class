{
 "cells": [
  {
   "cell_type": "markdown",
   "metadata": {},
   "source": [
    "# <center> Recurrent Neural Networks - Long Short Term Memory</center>"
   ]
  },
  {
   "cell_type": "markdown",
   "metadata": {},
   "source": [
    "# Recurrent Neural Networks (RNN)"
   ]
  },
  {
   "cell_type": "markdown",
   "metadata": {},
   "source": [
    "As it was seen beforehand in previous courses, Neural Networks offer a very comprehensive and efficient solution to classification problems. However could it also be applied to other problems such as prediction and time series forecasting? "
   ]
  },
  {
   "cell_type": "markdown",
   "metadata": {},
   "source": [
    "Google Translate, Apple's Siri, ... What do these applications have in common? They rely on specific Neural Networks called Recurrent Neural Networks. The core difference with what we have been seen before is the ability of RNNs to \"remember\" informations from previous chunk of the network "
   ]
  },
  {
   "cell_type": "markdown",
   "metadata": {},
   "source": [
    "To illustrate this idea, a graphical representation is a sound choice\n",
    "\n",
    "<img src=\"Pics/RNN-rolled.png\" alt=\"RNN-rolled.PNG\" style=\"width: 100px;\"/>\n",
    "\n",
    "This \"rolled\" representation of the RNN shows us an input $x_t$ in the network that then outputs an $h_t$. This is a classic scheme for Neural Networks. However there is a loop on the network that can be unrolled (see below) to represent the loop mechanism or a RNN\n",
    "\n",
    "<img src=\"Pics/RNN-unrolled.png\" alt=\"RNN-unrolled.png\" style=\"width: 600px;\"/>\n",
    "\n",
    "We see here that the input is in reality made out of several inputs for each step $1$ to $t$. The network feeds itself with previous values it computed to improve the results it gets. The most simple form of RNN feeds itself its outputs as inputs for instance (see: https://keras.io/layers/recurrent/ - SimpleRNN)  \n",
    "\n",
    "Now that the core idea of a RNN has been introduced, let's try to implement one using Keras:\n",
    "\n",
    "<center>Let's predict an airline's sales for the upcoming year using an RNN network"
   ]
  },
  {
   "cell_type": "markdown",
   "metadata": {},
   "source": [
    "To make this exercise , we will use the data and the example used in the following article <br> \n",
    "<center><b>Time Series Prediction with LSTM Recurrent Neural Networks in Python with Keras </b></center> <br>\n",
    "https://machinelearningmastery.com/time-series-prediction-lstm-recurrent-neural-networks-python-keras/\n"
   ]
  },
  {
   "cell_type": "markdown",
   "metadata": {},
   "source": [
    "Let's begin by plotting the previous sales in order to better our problem  "
   ]
  },
  {
   "cell_type": "code",
   "execution_count": 3,
   "metadata": {
    "scrolled": false
   },
   "outputs": [
    {
     "data": {
      "image/png": "[encoded data removed]",
      "text/plain": [
       "<matplotlib.figure.Figure at 0x7facca401e80>"
      ]
     },
     "metadata": {},
     "output_type": "display_data"
    }
   ],
   "source": [
    "import math\n",
    "import pandas\n",
    "import matplotlib.pyplot as plt\n",
    "%matplotlib inline\n",
    "import numpy as np\n",
    "\n",
    "\n",
    "dataset = pandas.read_csv('data/international-airline-passengers.csv', usecols=[1], engine='python', skipfooter=3)\n",
    "plt.plot(dataset)\n",
    "plt.show()"
   ]
  },
  {
   "cell_type": "markdown",
   "metadata": {},
   "source": [
    "A first insight on our data shows us that the sales seem to follow a cyclic pattern and as such a NN with the ability to \"remember\" what came before could be a good approah to this problem.  "
   ]
  },
  {
   "cell_type": "markdown",
   "metadata": {},
   "source": [
    "### Let's prepare our data"
   ]
  },
  {
   "cell_type": "code",
   "execution_count": 15,
   "metadata": {},
   "outputs": [],
   "source": [
    "# fix random seed for reproducibility\n",
    "np.random.seed(7)\n",
    "\n",
    "from sklearn.preprocessing import MinMaxScaler\n",
    "from sklearn.metrics import mean_squared_error\n",
    "\n",
    "# normalize the dataset\n",
    "scaler = MinMaxScaler(feature_range=(0, 1))\n",
    "dataset = scaler.fit_transform(dataset)\n",
    "# split into train and test sets\n",
    "train_size = int(len(dataset) * 0.67)\n",
    "test_size = len(dataset) - train_size\n",
    "train, test = dataset[0:train_size,:], dataset[train_size:len(dataset),:]"
   ]
  },
  {
   "cell_type": "markdown",
   "metadata": {},
   "source": [
    "Let's introduce the create_dataset function that we will use in our example"
   ]
  },
  {
   "cell_type": "code",
   "execution_count": 16,
   "metadata": {
    "collapsed": true
   },
   "outputs": [],
   "source": [
    "# convert an array of values into a dataset matrix\n",
    "def create_dataset(dataset, look_back=1):\n",
    "    dataX, dataY = [], []\n",
    "    for i in range(len(dataset)-look_back-1):\n",
    "        a = dataset[i:(i+look_back), 0]\n",
    "        dataX.append(a)\n",
    "        dataY.append(dataset[i + look_back, 0])\n",
    "    return np.array(dataX), np.array(dataY)"
   ]
  },
  {
   "cell_type": "code",
   "execution_count": 17,
   "metadata": {},
   "outputs": [],
   "source": [
    "# Using the create_dataset function given beforehand, reshape test and train into X=t and Y=t+1\n",
    "look_back = 3\n",
    "trainX, trainY = create_dataset(train, look_back)\n",
    "testX, testY = create_dataset(test, look_back)\n",
    "# reshape input to be [samples, time steps, features]\n",
    "trainX = np.reshape(trainX, (trainX.shape[0], 1, trainX.shape[1]))\n",
    "testX = np.reshape(testX, (testX.shape[0], 1, testX.shape[1]))"
   ]
  },
  {
   "cell_type": "code",
   "execution_count": 10,
   "metadata": {},
   "outputs": [
    {
     "name": "stderr",
     "output_type": "stream",
     "text": [
      "Using TensorFlow backend.\n"
     ]
    },
    {
     "name": "stdout",
     "output_type": "stream",
     "text": [
      "Epoch 1/100\n",
      " - 2s - loss: 0.0028\n",
      "Epoch 2/100\n",
      " - 0s - loss: 0.0023\n",
      "Epoch 3/100\n",
      " - 0s - loss: 0.0023\n",
      "Epoch 4/100\n",
      " - 0s - loss: 0.0022\n",
      "Epoch 5/100\n",
      " - 0s - loss: 0.0021\n",
      "Epoch 6/100\n",
      " - 0s - loss: 0.0022\n",
      "Epoch 7/100\n",
      " - 0s - loss: 0.0021\n",
      "Epoch 8/100\n",
      " - 0s - loss: 0.0021\n",
      "Epoch 9/100\n",
      " - 0s - loss: 0.0022\n",
      "Epoch 10/100\n",
      " - 0s - loss: 0.0021\n",
      "Epoch 11/100\n",
      " - 0s - loss: 0.0020\n",
      "Epoch 12/100\n",
      " - 0s - loss: 0.0020\n",
      "Epoch 13/100\n",
      " - 0s - loss: 0.0020\n",
      "Epoch 14/100\n",
      " - 0s - loss: 0.0020\n",
      "Epoch 15/100\n",
      " - 0s - loss: 0.0020\n",
      "Epoch 16/100\n",
      " - 0s - loss: 0.0020\n",
      "Epoch 17/100\n",
      " - 0s - loss: 0.0020\n",
      "Epoch 18/100\n",
      " - 0s - loss: 0.0021\n",
      "Epoch 19/100\n",
      " - 0s - loss: 0.0020\n",
      "Epoch 20/100\n",
      " - 0s - loss: 0.0021\n",
      "Epoch 21/100\n",
      " - 0s - loss: 0.0020\n",
      "Epoch 22/100\n",
      " - 0s - loss: 0.0020\n",
      "Epoch 23/100\n",
      " - 0s - loss: 0.0019\n",
      "Epoch 24/100\n",
      " - 0s - loss: 0.0020\n",
      "Epoch 25/100\n",
      " - 0s - loss: 0.0019\n",
      "Epoch 26/100\n",
      " - 0s - loss: 0.0020\n",
      "Epoch 27/100\n",
      " - 0s - loss: 0.0020\n",
      "Epoch 28/100\n",
      " - 0s - loss: 0.0019\n",
      "Epoch 29/100\n",
      " - 0s - loss: 0.0020\n",
      "Epoch 30/100\n",
      " - 0s - loss: 0.0020\n",
      "Epoch 31/100\n",
      " - 0s - loss: 0.0021\n",
      "Epoch 32/100\n",
      " - 0s - loss: 0.0020\n",
      "Epoch 33/100\n",
      " - 0s - loss: 0.0020\n",
      "Epoch 34/100\n",
      " - 0s - loss: 0.0020\n",
      "Epoch 35/100\n",
      " - 0s - loss: 0.0019\n",
      "Epoch 36/100\n",
      " - 0s - loss: 0.0019\n",
      "Epoch 37/100\n",
      " - 0s - loss: 0.0019\n",
      "Epoch 38/100\n",
      " - 0s - loss: 0.0019\n",
      "Epoch 39/100\n",
      " - 0s - loss: 0.0019\n",
      "Epoch 40/100\n",
      " - 0s - loss: 0.0019\n",
      "Epoch 41/100\n",
      " - 0s - loss: 0.0019\n",
      "Epoch 42/100\n",
      " - 0s - loss: 0.0019\n",
      "Epoch 43/100\n",
      " - 0s - loss: 0.0020\n",
      "Epoch 44/100\n",
      " - 0s - loss: 0.0020\n",
      "Epoch 45/100\n",
      " - 0s - loss: 0.0019\n",
      "Epoch 46/100\n",
      " - 0s - loss: 0.0019\n",
      "Epoch 47/100\n",
      " - 0s - loss: 0.0019\n",
      "Epoch 48/100\n",
      " - 0s - loss: 0.0019\n",
      "Epoch 49/100\n",
      " - 0s - loss: 0.0019\n",
      "Epoch 50/100\n",
      " - 0s - loss: 0.0020\n",
      "Epoch 51/100\n",
      " - 0s - loss: 0.0019\n",
      "Epoch 52/100\n",
      " - 0s - loss: 0.0021\n",
      "Epoch 53/100\n",
      " - 0s - loss: 0.0019\n",
      "Epoch 54/100\n",
      " - 0s - loss: 0.0018\n",
      "Epoch 55/100\n",
      " - 0s - loss: 0.0019\n",
      "Epoch 56/100\n",
      " - 0s - loss: 0.0019\n",
      "Epoch 57/100\n",
      " - 0s - loss: 0.0019\n",
      "Epoch 58/100\n",
      " - 0s - loss: 0.0020\n",
      "Epoch 59/100\n",
      " - 0s - loss: 0.0019\n",
      "Epoch 60/100\n",
      " - 0s - loss: 0.0020\n",
      "Epoch 61/100\n",
      " - 0s - loss: 0.0020\n",
      "Epoch 62/100\n",
      " - 0s - loss: 0.0018\n",
      "Epoch 63/100\n",
      " - 0s - loss: 0.0019\n",
      "Epoch 64/100\n",
      " - 0s - loss: 0.0020\n",
      "Epoch 65/100\n",
      " - 0s - loss: 0.0019\n",
      "Epoch 66/100\n",
      " - 0s - loss: 0.0019\n",
      "Epoch 67/100\n",
      " - 0s - loss: 0.0020\n",
      "Epoch 68/100\n",
      " - 1s - loss: 0.0019\n",
      "Epoch 69/100\n",
      " - 0s - loss: 0.0019\n",
      "Epoch 70/100\n",
      " - 0s - loss: 0.0019\n",
      "Epoch 71/100\n",
      " - 0s - loss: 0.0019\n",
      "Epoch 72/100\n",
      " - 1s - loss: 0.0019\n",
      "Epoch 73/100\n",
      " - 0s - loss: 0.0020\n",
      "Epoch 74/100\n",
      " - 0s - loss: 0.0019\n",
      "Epoch 75/100\n",
      " - 0s - loss: 0.0019\n",
      "Epoch 76/100\n",
      " - 0s - loss: 0.0019\n",
      "Epoch 77/100\n",
      " - 0s - loss: 0.0019\n",
      "Epoch 78/100\n",
      " - 0s - loss: 0.0020\n",
      "Epoch 79/100\n",
      " - 0s - loss: 0.0020\n",
      "Epoch 80/100\n",
      " - 0s - loss: 0.0019\n",
      "Epoch 81/100\n",
      " - 0s - loss: 0.0019\n",
      "Epoch 82/100\n",
      " - 0s - loss: 0.0018\n",
      "Epoch 83/100\n",
      " - 0s - loss: 0.0018\n",
      "Epoch 84/100\n",
      " - 0s - loss: 0.0020\n",
      "Epoch 85/100\n",
      " - 0s - loss: 0.0019\n",
      "Epoch 86/100\n",
      " - 0s - loss: 0.0019\n",
      "Epoch 87/100\n",
      " - 0s - loss: 0.0018\n",
      "Epoch 88/100\n",
      " - 0s - loss: 0.0020\n",
      "Epoch 89/100\n",
      " - 0s - loss: 0.0018\n",
      "Epoch 90/100\n",
      " - 0s - loss: 0.0018\n",
      "Epoch 91/100\n",
      " - 0s - loss: 0.0019\n",
      "Epoch 92/100\n",
      " - 0s - loss: 0.0018\n",
      "Epoch 93/100\n",
      " - 0s - loss: 0.0019\n",
      "Epoch 94/100\n",
      " - 0s - loss: 0.0018\n",
      "Epoch 95/100\n",
      " - 1s - loss: 0.0019\n",
      "Epoch 96/100\n",
      " - 0s - loss: 0.0018\n",
      "Epoch 97/100\n",
      " - 0s - loss: 0.0019\n",
      "Epoch 98/100\n",
      " - 0s - loss: 0.0018\n",
      "Epoch 99/100\n",
      " - 0s - loss: 0.0019\n",
      "Epoch 100/100\n",
      " - 0s - loss: 0.0018\n"
     ]
    }
   ],
   "source": [
    "from keras.models import Sequential\n",
    "from keras.layers import Dense\n",
    "from keras.layers import SimpleRNN\n",
    "\n",
    "# create and fit the LSTM network\n",
    "model = Sequential()\n",
    "model.add(SimpleRNN(4, input_shape=(1, look_back)))\n",
    "model.add(Dense(1))\n",
    "model.compile(loss='mean_squared_error', optimizer='adam')\n",
    "model.fit(trainX, trainY, epochs=100, batch_size=1, verbose=2)\n",
    "# make predictions\n",
    "trainPredict = model.predict(trainX)\n",
    "testPredict = model.predict(testX)\n",
    "# invert predictions\n",
    "trainPredict = scaler.inverse_transform(trainPredict)\n",
    "trainY = scaler.inverse_transform([trainY])\n",
    "testPredict = scaler.inverse_transform(testPredict)\n",
    "testY = scaler.inverse_transform([testY])"
   ]
  },
  {
   "cell_type": "code",
   "execution_count": 12,
   "metadata": {
    "scrolled": true
   },
   "outputs": [
    {
     "name": "stdout",
     "output_type": "stream",
     "text": [
      "Train Score: 21.63 RMSE\n",
      "Test Score: 51.65 RMSE\n"
     ]
    },
    {
     "data": {
      "image/png": "[encoded data removed]",
      "text/plain": [
       "<matplotlib.figure.Figure at 0x7faca01d37f0>"
      ]
     },
     "metadata": {},
     "output_type": "display_data"
    }
   ],
   "source": [
    "# calculate root mean squared error\n",
    "trainScore = math.sqrt(mean_squared_error(trainY[0], trainPredict[:,0]))\n",
    "print('Train Score: %.2f RMSE' % (trainScore))\n",
    "testScore = math.sqrt(mean_squared_error(testY[0], testPredict[:,0]))\n",
    "print('Test Score: %.2f RMSE' % (testScore))\n",
    "\n",
    "# shift train predictions for plotting\n",
    "trainPredictPlot = np.empty_like(dataset)\n",
    "trainPredictPlot[:, :] = np.nan\n",
    "trainPredictPlot[look_back:len(trainPredict)+look_back, :] = trainPredict\n",
    "\n",
    "# shift test predictions for plotting\n",
    "testPredictPlot = np.empty_like(dataset)\n",
    "testPredictPlot[:, :] = np.nan\n",
    "testPredictPlot[len(trainPredict)+(look_back*2)+1:len(dataset)-1, :] = testPredict\n",
    "\n",
    "# plot baseline and predictions\n",
    "plt.plot(scaler.inverse_transform(dataset))\n",
    "plt.plot(trainPredictPlot)\n",
    "plt.plot(testPredictPlot)\n",
    "plt.show()"
   ]
  },
  {
   "cell_type": "markdown",
   "metadata": {},
   "source": [
    "## Limits of RNNs: The vanishing gradient problem"
   ]
  },
  {
   "cell_type": "markdown",
   "metadata": {},
   "source": [
    "However as we try to imporve our model, we will encounter one of the main issues of "
   ]
  },
  {
   "cell_type": "markdown",
   "metadata": {},
   "source": [
    "# Long Short Term Memory"
   ]
  },
  {
   "cell_type": "markdown",
   "metadata": {},
   "source": [
    "In order to compose with RNNs short-comings, a new method was designed to counter the vanishing gradient issue. These networks are called LSTM "
   ]
  },
  {
   "cell_type": "code",
   "execution_count": 18,
   "metadata": {},
   "outputs": [
    {
     "name": "stdout",
     "output_type": "stream",
     "text": [
      "Epoch 1/100\n",
      " - 3s - loss: 0.0542\n",
      "Epoch 2/100\n",
      " - 1s - loss: 0.0259\n",
      "Epoch 3/100\n",
      " - 1s - loss: 0.0167\n",
      "Epoch 4/100\n",
      " - 1s - loss: 0.0145\n",
      "Epoch 5/100\n",
      " - 1s - loss: 0.0129\n",
      "Epoch 6/100\n",
      " - 1s - loss: 0.0116\n",
      "Epoch 7/100\n",
      " - 1s - loss: 0.0105\n",
      "Epoch 8/100\n",
      " - 1s - loss: 0.0094\n",
      "Epoch 9/100\n",
      " - 1s - loss: 0.0081\n",
      "Epoch 10/100\n",
      " - 1s - loss: 0.0074\n",
      "Epoch 11/100\n",
      " - 1s - loss: 0.0066\n",
      "Epoch 12/100\n",
      " - 1s - loss: 0.0060\n",
      "Epoch 13/100\n",
      " - 1s - loss: 0.0056\n",
      "Epoch 14/100\n",
      " - 1s - loss: 0.0052\n",
      "Epoch 15/100\n",
      " - 1s - loss: 0.0050\n",
      "Epoch 16/100\n",
      " - 1s - loss: 0.0049\n",
      "Epoch 17/100\n",
      " - 1s - loss: 0.0046\n",
      "Epoch 18/100\n",
      " - 1s - loss: 0.0045\n",
      "Epoch 19/100\n",
      " - 1s - loss: 0.0045\n",
      "Epoch 20/100\n",
      " - 1s - loss: 0.0043\n",
      "Epoch 21/100\n",
      " - 1s - loss: 0.0043\n",
      "Epoch 22/100\n",
      " - 1s - loss: 0.0042\n",
      "Epoch 23/100\n",
      " - 1s - loss: 0.0042\n",
      "Epoch 24/100\n",
      " - 1s - loss: 0.0042\n",
      "Epoch 25/100\n",
      " - 1s - loss: 0.0040\n",
      "Epoch 26/100\n",
      " - 1s - loss: 0.0041\n",
      "Epoch 27/100\n",
      " - 1s - loss: 0.0040\n",
      "Epoch 28/100\n",
      " - 1s - loss: 0.0040\n",
      "Epoch 29/100\n",
      " - 1s - loss: 0.0039\n",
      "Epoch 30/100\n",
      " - 1s - loss: 0.0038\n",
      "Epoch 31/100\n",
      " - 1s - loss: 0.0038\n",
      "Epoch 32/100\n",
      " - 1s - loss: 0.0037\n",
      "Epoch 33/100\n",
      " - 1s - loss: 0.0037\n",
      "Epoch 34/100\n",
      " - 1s - loss: 0.0037\n",
      "Epoch 35/100\n",
      " - 1s - loss: 0.0036\n",
      "Epoch 36/100\n",
      " - 1s - loss: 0.0035\n",
      "Epoch 37/100\n",
      " - 1s - loss: 0.0036\n",
      "Epoch 38/100\n",
      " - 1s - loss: 0.0035\n",
      "Epoch 39/100\n",
      " - 1s - loss: 0.0035\n",
      "Epoch 40/100\n",
      " - 1s - loss: 0.0034\n",
      "Epoch 41/100\n",
      " - 1s - loss: 0.0035\n",
      "Epoch 42/100\n",
      " - 1s - loss: 0.0034\n",
      "Epoch 43/100\n",
      " - 1s - loss: 0.0033\n",
      "Epoch 44/100\n",
      " - 1s - loss: 0.0033\n",
      "Epoch 45/100\n",
      " - 1s - loss: 0.0032\n",
      "Epoch 46/100\n",
      " - 1s - loss: 0.0034\n",
      "Epoch 47/100\n",
      " - 1s - loss: 0.0031\n",
      "Epoch 48/100\n",
      " - 1s - loss: 0.0031\n",
      "Epoch 49/100\n",
      " - 1s - loss: 0.0031\n",
      "Epoch 50/100\n",
      " - 1s - loss: 0.0030\n",
      "Epoch 51/100\n",
      " - 1s - loss: 0.0030\n",
      "Epoch 52/100\n",
      " - 1s - loss: 0.0029\n",
      "Epoch 53/100\n",
      " - 1s - loss: 0.0030\n",
      "Epoch 54/100\n",
      " - 1s - loss: 0.0028\n",
      "Epoch 55/100\n",
      " - 1s - loss: 0.0028\n",
      "Epoch 56/100\n",
      " - 1s - loss: 0.0028\n",
      "Epoch 57/100\n",
      " - 1s - loss: 0.0027\n",
      "Epoch 58/100\n",
      " - 1s - loss: 0.0028\n",
      "Epoch 59/100\n",
      " - 1s - loss: 0.0027\n",
      "Epoch 60/100\n",
      " - 1s - loss: 0.0028\n",
      "Epoch 61/100\n",
      " - 1s - loss: 0.0027\n",
      "Epoch 62/100\n",
      " - 1s - loss: 0.0026\n",
      "Epoch 63/100\n",
      " - 1s - loss: 0.0025\n",
      "Epoch 64/100\n",
      " - 1s - loss: 0.0028\n",
      "Epoch 65/100\n",
      " - 1s - loss: 0.0025\n",
      "Epoch 66/100\n",
      " - 1s - loss: 0.0025\n",
      "Epoch 67/100\n",
      " - 1s - loss: 0.0024\n",
      "Epoch 68/100\n",
      " - 1s - loss: 0.0025\n",
      "Epoch 69/100\n",
      " - 1s - loss: 0.0024\n",
      "Epoch 70/100\n",
      " - 1s - loss: 0.0024\n",
      "Epoch 71/100\n",
      " - 1s - loss: 0.0024\n",
      "Epoch 72/100\n",
      " - 1s - loss: 0.0024\n",
      "Epoch 73/100\n",
      " - 1s - loss: 0.0024\n",
      "Epoch 74/100\n",
      " - 1s - loss: 0.0023\n",
      "Epoch 75/100\n",
      " - 1s - loss: 0.0023\n",
      "Epoch 76/100\n",
      " - 1s - loss: 0.0023\n",
      "Epoch 77/100\n",
      " - 1s - loss: 0.0024\n",
      "Epoch 78/100\n",
      " - 1s - loss: 0.0023\n",
      "Epoch 79/100\n",
      " - 1s - loss: 0.0023\n",
      "Epoch 80/100\n",
      " - 1s - loss: 0.0023\n",
      "Epoch 81/100\n",
      " - 1s - loss: 0.0023\n",
      "Epoch 82/100\n",
      " - 1s - loss: 0.0022\n",
      "Epoch 83/100\n",
      " - 1s - loss: 0.0022\n",
      "Epoch 84/100\n",
      " - 1s - loss: 0.0022\n",
      "Epoch 85/100\n",
      " - 1s - loss: 0.0022\n",
      "Epoch 86/100\n",
      " - 1s - loss: 0.0020\n",
      "Epoch 87/100\n",
      " - 1s - loss: 0.0023\n",
      "Epoch 88/100\n",
      " - 1s - loss: 0.0021\n",
      "Epoch 89/100\n",
      " - 1s - loss: 0.0021\n",
      "Epoch 90/100\n",
      " - 1s - loss: 0.0021\n",
      "Epoch 91/100\n",
      " - 1s - loss: 0.0021\n",
      "Epoch 92/100\n",
      " - 1s - loss: 0.0021\n",
      "Epoch 93/100\n",
      " - 1s - loss: 0.0021\n",
      "Epoch 94/100\n",
      " - 1s - loss: 0.0021\n",
      "Epoch 95/100\n",
      " - 1s - loss: 0.0021\n",
      "Epoch 96/100\n",
      " - 1s - loss: 0.0021\n",
      "Epoch 97/100\n",
      " - 1s - loss: 0.0021\n",
      "Epoch 98/100\n",
      " - 1s - loss: 0.0021\n",
      "Epoch 99/100\n",
      " - 1s - loss: 0.0022\n",
      "Epoch 100/100\n",
      " - 1s - loss: 0.0020\n"
     ]
    }
   ],
   "source": [
    "from keras.models import Sequential\n",
    "from keras.layers import Dense\n",
    "from keras.layers import LSTM\n",
    "\n",
    "# create and fit the LSTM network\n",
    "model = Sequential()\n",
    "model.add(LSTM(4, input_shape=(1, look_back)))\n",
    "model.add(Dense(1))\n",
    "model.compile(loss='mean_squared_error', optimizer='adam')\n",
    "model.fit(trainX, trainY, epochs=100, batch_size=1, verbose=2)\n",
    "\n",
    "# make predictions\n",
    "trainPredict = model.predict(trainX)\n",
    "testPredict = model.predict(testX)\n",
    "\n",
    "# invert predictions\n",
    "trainPredict = scaler.inverse_transform(trainPredict)\n",
    "trainY = scaler.inverse_transform([trainY])\n",
    "testPredict = scaler.inverse_transform(testPredict)\n",
    "testY = scaler.inverse_transform([testY])"
   ]
  },
  {
   "cell_type": "code",
   "execution_count": 19,
   "metadata": {
    "scrolled": true
   },
   "outputs": [
    {
     "name": "stdout",
     "output_type": "stream",
     "text": [
      "Train Score: 0.05 RMSE\n",
      "Test Score: 0.11 RMSE\n"
     ]
    },
    {
     "data": {
      "image/png": "[encoded data removed]",
      "text/plain": [
       "<matplotlib.figure.Figure at 0x7fac886aa780>"
      ]
     },
     "metadata": {},
     "output_type": "display_data"
    }
   ],
   "source": [
    "# calculate root mean squared error\n",
    "trainScore = math.sqrt(mean_squared_error(trainY[0], trainPredict[:,0]))\n",
    "print('Train Score: %.2f RMSE' % (trainScore))\n",
    "testScore = math.sqrt(mean_squared_error(testY[0], testPredict[:,0]))\n",
    "print('Test Score: %.2f RMSE' % (testScore))\n",
    "# shift train predictions for plotting\n",
    "trainPredictPlot = np.empty_like(dataset)\n",
    "trainPredictPlot[:, :] = np.nan\n",
    "trainPredictPlot[look_back:len(trainPredict)+look_back, :] = trainPredict\n",
    "# shift test predictions for plotting\n",
    "testPredictPlot = np.empty_like(dataset)\n",
    "testPredictPlot[:, :] = np.nan\n",
    "testPredictPlot[len(trainPredict)+(look_back*2)+1:len(dataset)-1, :] = testPredict\n",
    "# plot baseline and predictions\n",
    "plt.plot(scaler.inverse_transform(dataset))\n",
    "plt.plot(trainPredictPlot)\n",
    "plt.plot(testPredictPlot)\n",
    "plt.show()"
   ]
  },
  {
   "cell_type": "code",
   "execution_count": null,
   "metadata": {
    "collapsed": true
   },
   "outputs": [],
   "source": []
  }
 ],
 "metadata": {
  "kernelspec": {
   "display_name": "Python 3",
   "language": "python",
   "name": "python3"
  },
  "language_info": {
   "codemirror_mode": {
    "name": "ipython",
    "version": 3
   },
   "file_extension": ".py",
   "mimetype": "text/x-python",
   "name": "python",
   "nbconvert_exporter": "python",
   "pygments_lexer": "ipython3",
   "version": "3.6.3"
  }
 },
 "nbformat": 4,
 "nbformat_minor": 2
}
